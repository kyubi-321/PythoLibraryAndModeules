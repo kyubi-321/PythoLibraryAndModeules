{
  "nbformat": 4,
  "nbformat_minor": 0,
  "metadata": {
    "colab": {
      "provenance": []
    },
    "kernelspec": {
      "name": "python3",
      "display_name": "Python 3"
    },
    "language_info": {
      "name": "python"
    }
  },
  "cells": [
    {
      "cell_type": "code",
      "execution_count": null,
      "metadata": {
        "id": "O0noSRo1hc38",
        "colab": {
          "base_uri": "https://localhost:8080/"
        },
        "outputId": "dfe1c2bb-18f7-4275-d647-19d1ccb8a2f7"
      },
      "outputs": [
        {
          "output_type": "execute_result",
          "data": {
            "text/plain": [
              "array([[20, 33, 28],\n",
              "       [16, 21, 45]])"
            ]
          },
          "metadata": {},
          "execution_count": 2
        }
      ],
      "source": [
        "import numpy as np\n",
        "import matplotlib.pylab as plt\n",
        "from numpy import random\n",
        "\n",
        "list_1 = [1,2,3,4,5]\n",
        "np_arr_1 = np.array(list_1 , dtype=np.int8)\n",
        "np_arr_1\n",
        "\n",
        "m_list_1 = [[1,2,3],[4,5,6],[7,8,9]]\n",
        "m_np_arr = np.array(m_list_1 , dtype=np.int8)\n",
        "m_np_arr\n",
        "\n",
        "np.arange(1,10)\n",
        "np.linspace(0,5,3)\n",
        "np.zeros(4)\n",
        "np.zeros((4,4))\n",
        "np.ones((3,4))\n",
        "m_np_arr.size\n",
        "\n",
        "np_arr_2 = np.array([1,2,3,4,5,6,7])\n",
        "np_arr_2.dtype\n",
        "\n",
        "np.random.randint(10,50,size=(2,3))\n",
        "\n"
      ]
    },
    {
      "cell_type": "markdown",
      "source": [
        "**SLICING AND INDEXES**"
      ],
      "metadata": {
        "id": "LFTt79_N05Ap"
      }
    },
    {
      "cell_type": "code",
      "source": [
        "m_np_arr[0,0]=2\n",
        "m_np_arr.itemset((0,1),1)\n",
        "m_np_arr"
      ],
      "metadata": {
        "colab": {
          "base_uri": "https://localhost:8080/"
        },
        "id": "EuailJDK1BQ5",
        "outputId": "d793e7de-4e23-4499-c31a-ee80ed0a1a5b"
      },
      "execution_count": null,
      "outputs": [
        {
          "output_type": "execute_result",
          "data": {
            "text/plain": [
              "array([[2, 1, 3],\n",
              "       [4, 5, 6],\n",
              "       [7, 8, 9]], dtype=int8)"
            ]
          },
          "metadata": {},
          "execution_count": 3
        }
      ]
    },
    {
      "cell_type": "code",
      "source": [
        "m_np_arr.shape"
      ],
      "metadata": {
        "colab": {
          "base_uri": "https://localhost:8080/"
        },
        "id": "3Z0bZz7e2BgE",
        "outputId": "34f00c08-009c-40d9-f026-5b49704a04da"
      },
      "execution_count": null,
      "outputs": [
        {
          "output_type": "execute_result",
          "data": {
            "text/plain": [
              "(3, 3)"
            ]
          },
          "metadata": {},
          "execution_count": 4
        }
      ]
    },
    {
      "cell_type": "code",
      "source": [
        "m_np_arr[0,1]"
      ],
      "metadata": {
        "colab": {
          "base_uri": "https://localhost:8080/"
        },
        "id": "sFMmxUBE2FHm",
        "outputId": "78356d34-2943-4a59-a3d2-1246784eaf80"
      },
      "execution_count": null,
      "outputs": [
        {
          "output_type": "execute_result",
          "data": {
            "text/plain": [
              "1"
            ]
          },
          "metadata": {},
          "execution_count": 5
        }
      ]
    },
    {
      "cell_type": "code",
      "source": [
        "m_np_arr.item(1,2)"
      ],
      "metadata": {
        "colab": {
          "base_uri": "https://localhost:8080/"
        },
        "id": "6IyR-fN22Own",
        "outputId": "efdd60b5-0dbe-460f-cc1b-9f74081f9869"
      },
      "execution_count": null,
      "outputs": [
        {
          "output_type": "execute_result",
          "data": {
            "text/plain": [
              "6"
            ]
          },
          "metadata": {},
          "execution_count": 6
        }
      ]
    },
    {
      "cell_type": "code",
      "source": [
        "print(\"m_np_arr\\n\" , m_np_arr)\n",
        "\n",
        "np.take(m_np_arr , [0,3,6])"
      ],
      "metadata": {
        "colab": {
          "base_uri": "https://localhost:8080/"
        },
        "id": "hwW9mJtz3X2W",
        "outputId": "9bdd1f11-7cc6-44c9-9ad2-03338fa133dd"
      },
      "execution_count": null,
      "outputs": [
        {
          "output_type": "stream",
          "name": "stdout",
          "text": [
            "m_np_arr\n",
            " [[2 1 3]\n",
            " [4 5 6]\n",
            " [7 8 9]]\n"
          ]
        },
        {
          "output_type": "execute_result",
          "data": {
            "text/plain": [
              "array([2, 4, 7], dtype=int8)"
            ]
          },
          "metadata": {},
          "execution_count": 7
        }
      ]
    },
    {
      "cell_type": "code",
      "source": [
        "np.put(m_np_arr , [0,3,6] , [10,10,10])\n",
        "m_np_arr"
      ],
      "metadata": {
        "colab": {
          "base_uri": "https://localhost:8080/"
        },
        "id": "AEpsosMF30Xc",
        "outputId": "d2dfa4ee-12c6-488c-fcf6-dd60359719e6"
      },
      "execution_count": null,
      "outputs": [
        {
          "output_type": "execute_result",
          "data": {
            "text/plain": [
              "array([[10,  1,  3],\n",
              "       [10,  5,  6],\n",
              "       [10,  8,  9]], dtype=int8)"
            ]
          },
          "metadata": {},
          "execution_count": 8
        }
      ]
    },
    {
      "cell_type": "code",
      "source": [
        "np_arr_1[0:5:2]"
      ],
      "metadata": {
        "colab": {
          "base_uri": "https://localhost:8080/"
        },
        "id": "B0ZFb7QM4NwQ",
        "outputId": "92a33b25-7e0c-487c-9eb7-a39731548367"
      },
      "execution_count": null,
      "outputs": [
        {
          "output_type": "execute_result",
          "data": {
            "text/plain": [
              "array([1, 3, 5], dtype=int8)"
            ]
          },
          "metadata": {},
          "execution_count": 9
        }
      ]
    },
    {
      "cell_type": "code",
      "source": [
        "m_np_arr[0:,1]"
      ],
      "metadata": {
        "colab": {
          "base_uri": "https://localhost:8080/"
        },
        "id": "n8hDeKIp6gOe",
        "outputId": "4fcbbd0f-bd4f-4ee5-f119-b67880b3cd40"
      },
      "execution_count": null,
      "outputs": [
        {
          "output_type": "execute_result",
          "data": {
            "text/plain": [
              "array([1, 5, 8], dtype=int8)"
            ]
          },
          "metadata": {},
          "execution_count": 10
        }
      ]
    },
    {
      "cell_type": "code",
      "source": [
        "m_np_arr[::-1]"
      ],
      "metadata": {
        "colab": {
          "base_uri": "https://localhost:8080/"
        },
        "id": "XUVDQ6hf7Fuw",
        "outputId": "30941b06-a980-41ce-8d07-e58522bb707b"
      },
      "execution_count": null,
      "outputs": [
        {
          "output_type": "execute_result",
          "data": {
            "text/plain": [
              "array([[10,  8,  9],\n",
              "       [10,  5,  6],\n",
              "       [10,  1,  3]], dtype=int8)"
            ]
          },
          "metadata": {},
          "execution_count": 11
        }
      ]
    },
    {
      "cell_type": "code",
      "source": [
        "evens = m_np_arr[m_np_arr%2==0]\n",
        "evens"
      ],
      "metadata": {
        "colab": {
          "base_uri": "https://localhost:8080/"
        },
        "id": "eSNLxhfX7NR3",
        "outputId": "eaaa979a-1582-4dea-ccca-b6ebec7b8361"
      },
      "execution_count": null,
      "outputs": [
        {
          "output_type": "execute_result",
          "data": {
            "text/plain": [
              "array([10, 10,  6, 10,  8], dtype=int8)"
            ]
          },
          "metadata": {},
          "execution_count": 12
        }
      ]
    },
    {
      "cell_type": "code",
      "source": [
        "m_np_arr[m_np_arr>3]"
      ],
      "metadata": {
        "colab": {
          "base_uri": "https://localhost:8080/"
        },
        "id": "LLalCj3t7-Yl",
        "outputId": "3bc052ab-2c13-4e74-bf88-06222498f958"
      },
      "execution_count": null,
      "outputs": [
        {
          "output_type": "execute_result",
          "data": {
            "text/plain": [
              "array([10, 10,  5,  6, 10,  8,  9], dtype=int8)"
            ]
          },
          "metadata": {},
          "execution_count": 13
        }
      ]
    },
    {
      "cell_type": "code",
      "source": [
        "m_np_arr[(m_np_arr>3) &(m_np_arr<8)]"
      ],
      "metadata": {
        "colab": {
          "base_uri": "https://localhost:8080/"
        },
        "id": "AqoFA5Go8Mjv",
        "outputId": "1b0d4fa7-a8d2-45cd-b78f-ea5fb9f65b2e"
      },
      "execution_count": null,
      "outputs": [
        {
          "output_type": "execute_result",
          "data": {
            "text/plain": [
              "array([5, 6], dtype=int8)"
            ]
          },
          "metadata": {},
          "execution_count": 14
        }
      ]
    },
    {
      "cell_type": "code",
      "source": [
        "np.unique(m_np_arr)"
      ],
      "metadata": {
        "colab": {
          "base_uri": "https://localhost:8080/"
        },
        "id": "hDdr4UcG8loK",
        "outputId": "07978d9a-d0fe-415f-cf02-4c72f452cb77"
      },
      "execution_count": null,
      "outputs": [
        {
          "output_type": "execute_result",
          "data": {
            "text/plain": [
              "array([ 1,  3,  5,  6,  8,  9, 10], dtype=int8)"
            ]
          },
          "metadata": {},
          "execution_count": 15
        }
      ]
    },
    {
      "cell_type": "markdown",
      "source": [
        "**RESHAPING ARRAYS**"
      ],
      "metadata": {
        "id": "itUxlyzm8xxn"
      }
    },
    {
      "cell_type": "code",
      "source": [
        "m_np_arr.reshape((1,9))"
      ],
      "metadata": {
        "colab": {
          "base_uri": "https://localhost:8080/"
        },
        "id": "Zq886qUt83_k",
        "outputId": "d36deba1-5e0b-4ee5-889c-5f6176fc9580"
      },
      "execution_count": null,
      "outputs": [
        {
          "output_type": "execute_result",
          "data": {
            "text/plain": [
              "array([[10,  1,  3, 10,  5,  6, 10,  8,  9]], dtype=int8)"
            ]
          },
          "metadata": {},
          "execution_count": 16
        }
      ]
    },
    {
      "cell_type": "code",
      "source": [
        "np.resize(m_np_arr , (2,5))"
      ],
      "metadata": {
        "colab": {
          "base_uri": "https://localhost:8080/"
        },
        "id": "L6LJ4E9o9Fxl",
        "outputId": "2f22ccb3-74bd-4763-87be-3f63016eb7d7"
      },
      "execution_count": null,
      "outputs": [
        {
          "output_type": "execute_result",
          "data": {
            "text/plain": [
              "array([[10,  1,  3, 10,  5],\n",
              "       [ 6, 10,  8,  9, 10]], dtype=int8)"
            ]
          },
          "metadata": {},
          "execution_count": 17
        }
      ]
    },
    {
      "cell_type": "code",
      "source": [
        "m_np_arr.transpose()"
      ],
      "metadata": {
        "colab": {
          "base_uri": "https://localhost:8080/"
        },
        "id": "58t2IzYS9SRq",
        "outputId": "ec010980-a78f-4c7c-b5fc-50a77ec8e95e"
      },
      "execution_count": null,
      "outputs": [
        {
          "output_type": "execute_result",
          "data": {
            "text/plain": [
              "array([[10, 10, 10],\n",
              "       [ 1,  5,  8],\n",
              "       [ 3,  6,  9]], dtype=int8)"
            ]
          },
          "metadata": {},
          "execution_count": 18
        }
      ]
    },
    {
      "cell_type": "code",
      "source": [
        "m_np_arr.swapaxes(0,1)"
      ],
      "metadata": {
        "colab": {
          "base_uri": "https://localhost:8080/"
        },
        "id": "ntamrESg9syh",
        "outputId": "802e4668-5b6c-41d9-adc0-9d6a52795001"
      },
      "execution_count": null,
      "outputs": [
        {
          "output_type": "execute_result",
          "data": {
            "text/plain": [
              "array([[10, 10, 10],\n",
              "       [ 1,  5,  8],\n",
              "       [ 3,  6,  9]], dtype=int8)"
            ]
          },
          "metadata": {},
          "execution_count": 19
        }
      ]
    },
    {
      "cell_type": "code",
      "source": [
        "##in rows\n",
        "m_np_arr.flatten()"
      ],
      "metadata": {
        "colab": {
          "base_uri": "https://localhost:8080/"
        },
        "id": "6rGwTyt--HHC",
        "outputId": "cab04545-976f-4e51-d2b0-d26b881483bc"
      },
      "execution_count": null,
      "outputs": [
        {
          "output_type": "execute_result",
          "data": {
            "text/plain": [
              "array([10,  1,  3, 10,  5,  6, 10,  8,  9], dtype=int8)"
            ]
          },
          "metadata": {},
          "execution_count": 20
        }
      ]
    },
    {
      "cell_type": "code",
      "source": [
        "##in cols\n",
        "m_np_arr.flatten('F')"
      ],
      "metadata": {
        "colab": {
          "base_uri": "https://localhost:8080/"
        },
        "id": "x24ZQPgk-YrI",
        "outputId": "fdcd7db6-f6c3-42f0-ad8d-1fe3ab1ccff7"
      },
      "execution_count": null,
      "outputs": [
        {
          "output_type": "execute_result",
          "data": {
            "text/plain": [
              "array([10, 10, 10,  1,  5,  8,  3,  6,  9], dtype=int8)"
            ]
          },
          "metadata": {},
          "execution_count": 21
        }
      ]
    },
    {
      "cell_type": "code",
      "source": [
        "m_np_arr.sort(axis=1)\n",
        "m_np_arr"
      ],
      "metadata": {
        "colab": {
          "base_uri": "https://localhost:8080/"
        },
        "id": "KDEGsmeS-lpD",
        "outputId": "281cffd9-33c9-404e-b402-5662cd969942"
      },
      "execution_count": null,
      "outputs": [
        {
          "output_type": "execute_result",
          "data": {
            "text/plain": [
              "array([[ 1,  3, 10],\n",
              "       [ 5,  6, 10],\n",
              "       [ 8,  9, 10]], dtype=int8)"
            ]
          },
          "metadata": {},
          "execution_count": 22
        }
      ]
    },
    {
      "cell_type": "markdown",
      "source": [
        "**STACKING AND SPLITTING**"
      ],
      "metadata": {
        "id": "9kCQMGaE-5lf"
      }
    },
    {
      "cell_type": "code",
      "source": [
        "ss_arr_1=np.random.randint(10,size=(2,2))\n",
        "print(\"ss_arr_1\\n\", ss_arr_1)\n",
        "\n",
        "ss_arr_2=np.random.randint(10,size=(2,2))\n",
        "print(\"ss_arr_2\\n\", ss_arr_2)\n",
        "\n",
        "##vertical stack\n",
        "np.vstack((ss_arr_1 , ss_arr_2))\n"
      ],
      "metadata": {
        "id": "eCiXUYLS--px",
        "colab": {
          "base_uri": "https://localhost:8080/"
        },
        "outputId": "17d72175-a729-4356-f20f-1d818d0d978f"
      },
      "execution_count": null,
      "outputs": [
        {
          "output_type": "stream",
          "name": "stdout",
          "text": [
            "ss_arr_1\n",
            " [[3 5]\n",
            " [4 2]]\n",
            "ss_arr_2\n",
            " [[3 8]\n",
            " [4 5]]\n"
          ]
        },
        {
          "output_type": "execute_result",
          "data": {
            "text/plain": [
              "array([[3, 5],\n",
              "       [4, 2],\n",
              "       [3, 8],\n",
              "       [4, 5]])"
            ]
          },
          "metadata": {},
          "execution_count": 23
        }
      ]
    },
    {
      "cell_type": "code",
      "source": [
        "##horizontal stack\n",
        "np.hstack((ss_arr_2,ss_arr_2))"
      ],
      "metadata": {
        "colab": {
          "base_uri": "https://localhost:8080/"
        },
        "id": "35BSmscBM4PK",
        "outputId": "c832b186-c63d-4149-9363-fd45f0875f19"
      },
      "execution_count": null,
      "outputs": [
        {
          "output_type": "execute_result",
          "data": {
            "text/plain": [
              "array([[3, 8, 3, 8],\n",
              "       [4, 5, 4, 5]])"
            ]
          },
          "metadata": {},
          "execution_count": 24
        }
      ]
    },
    {
      "cell_type": "code",
      "source": [
        "##removes (1,0) row\n",
        "ss_arr_3 = np.delete(ss_arr_1 , 1 , 0)\n",
        "ss_arr_3"
      ],
      "metadata": {
        "colab": {
          "base_uri": "https://localhost:8080/"
        },
        "id": "FM1nvvgtNH6c",
        "outputId": "6382c20b-5e9b-4cfa-8ea3-ae8225d522e3"
      },
      "execution_count": null,
      "outputs": [
        {
          "output_type": "execute_result",
          "data": {
            "text/plain": [
              "array([[3, 5]])"
            ]
          },
          "metadata": {},
          "execution_count": 25
        }
      ]
    },
    {
      "cell_type": "code",
      "source": [
        "ss_arr_4 = np.delete(ss_arr_2 , 1 , 0)\n",
        "ss_arr_4"
      ],
      "metadata": {
        "colab": {
          "base_uri": "https://localhost:8080/"
        },
        "id": "so4viUjUQZsV",
        "outputId": "8aa85bdf-638e-41ba-e993-0964a381de22"
      },
      "execution_count": null,
      "outputs": [
        {
          "output_type": "execute_result",
          "data": {
            "text/plain": [
              "array([[3, 8]])"
            ]
          },
          "metadata": {},
          "execution_count": 26
        }
      ]
    },
    {
      "cell_type": "code",
      "source": [
        "np.column_stack((ss_arr_3,ss_arr_3))"
      ],
      "metadata": {
        "colab": {
          "base_uri": "https://localhost:8080/"
        },
        "id": "itWiBvkpQxWF",
        "outputId": "c4706cac-398c-4ae3-b2b7-84033fc00f65"
      },
      "execution_count": null,
      "outputs": [
        {
          "output_type": "execute_result",
          "data": {
            "text/plain": [
              "array([[3, 5, 3, 5]])"
            ]
          },
          "metadata": {},
          "execution_count": 27
        }
      ]
    },
    {
      "cell_type": "code",
      "source": [
        "np.row_stack((ss_arr_4,ss_arr_4))\n"
      ],
      "metadata": {
        "colab": {
          "base_uri": "https://localhost:8080/"
        },
        "id": "c52XGbCuRd-R",
        "outputId": "ac4b6be3-2d1f-4605-dc68-596a5b935bca"
      },
      "execution_count": null,
      "outputs": [
        {
          "output_type": "execute_result",
          "data": {
            "text/plain": [
              "array([[3, 8],\n",
              "       [3, 8]])"
            ]
          },
          "metadata": {},
          "execution_count": 28
        }
      ]
    },
    {
      "cell_type": "code",
      "source": [
        "ss_arr_5 = np.random.randint(10 , size=(2,10))\n",
        "print(\"ss_arr_5\\n\" , ss_arr_5)\n",
        "np.hsplit(ss_arr_5 , 5)"
      ],
      "metadata": {
        "colab": {
          "base_uri": "https://localhost:8080/"
        },
        "id": "fyXmUzNmRxHI",
        "outputId": "b2baf8ad-341c-405e-936e-b3d62c0baf68"
      },
      "execution_count": null,
      "outputs": [
        {
          "output_type": "stream",
          "name": "stdout",
          "text": [
            "ss_arr_5\n",
            " [[5 9 3 4 8 7 8 1 2 9]\n",
            " [6 9 4 1 9 3 7 6 1 3]]\n"
          ]
        },
        {
          "output_type": "execute_result",
          "data": {
            "text/plain": [
              "[array([[5, 9],\n",
              "        [6, 9]]),\n",
              " array([[3, 4],\n",
              "        [4, 1]]),\n",
              " array([[8, 7],\n",
              "        [9, 3]]),\n",
              " array([[8, 1],\n",
              "        [7, 6]]),\n",
              " array([[2, 9],\n",
              "        [1, 3]])]"
            ]
          },
          "metadata": {},
          "execution_count": 29
        }
      ]
    },
    {
      "cell_type": "code",
      "source": [
        "print(\"ss_arr_5\\n\" , ss_arr_5)\n",
        "np.hsplit(ss_arr_5 , 2)"
      ],
      "metadata": {
        "colab": {
          "base_uri": "https://localhost:8080/"
        },
        "id": "l2RU4zuSScho",
        "outputId": "a75312d9-94e7-4b40-f5aa-20e4b22e99dd"
      },
      "execution_count": null,
      "outputs": [
        {
          "output_type": "stream",
          "name": "stdout",
          "text": [
            "ss_arr_5\n",
            " [[5 9 3 4 8 7 8 1 2 9]\n",
            " [6 9 4 1 9 3 7 6 1 3]]\n"
          ]
        },
        {
          "output_type": "execute_result",
          "data": {
            "text/plain": [
              "[array([[5, 9, 3, 4, 8],\n",
              "        [6, 9, 4, 1, 9]]),\n",
              " array([[7, 8, 1, 2, 9],\n",
              "        [3, 7, 6, 1, 3]])]"
            ]
          },
          "metadata": {},
          "execution_count": 30
        }
      ]
    },
    {
      "cell_type": "markdown",
      "source": [
        "**COPYING**"
      ],
      "metadata": {
        "id": "kUhIpsXzS140"
      }
    },
    {
      "cell_type": "code",
      "source": [
        "cp_arr_1 = np.random.randint(10 , size=(2,2))\n",
        "cp_arr_1"
      ],
      "metadata": {
        "colab": {
          "base_uri": "https://localhost:8080/"
        },
        "id": "lTRKs-icS5Cr",
        "outputId": "acf6b48c-287f-41e4-e9c4-98de55d5c2af"
      },
      "execution_count": null,
      "outputs": [
        {
          "output_type": "execute_result",
          "data": {
            "text/plain": [
              "array([[2, 2],\n",
              "       [1, 1]])"
            ]
          },
          "metadata": {},
          "execution_count": 31
        }
      ]
    },
    {
      "cell_type": "code",
      "source": [
        "##boh variables are pointing at the exact same array\n",
        "cp_arr_2 = cp_arr_1\n",
        "cp_arr_1[0,1]=2\n",
        "print(\"cp_arr_1\\n\",cp_arr_1)\n",
        "print(\"cp_arr_2\\n\",cp_arr_2)"
      ],
      "metadata": {
        "colab": {
          "base_uri": "https://localhost:8080/"
        },
        "id": "B6KM3RrNTCxy",
        "outputId": "daf05905-247e-447b-d7a9-958cc65642de"
      },
      "execution_count": null,
      "outputs": [
        {
          "output_type": "stream",
          "name": "stdout",
          "text": [
            "cp_arr_1\n",
            " [[2 2]\n",
            " [1 1]]\n",
            "cp_arr_2\n",
            " [[2 2]\n",
            " [1 1]]\n"
          ]
        }
      ]
    },
    {
      "cell_type": "code",
      "source": [
        "cp_arr_3 = cp_arr_1.view()\n",
        "cp_arr_3.flatten()"
      ],
      "metadata": {
        "colab": {
          "base_uri": "https://localhost:8080/"
        },
        "id": "gBFL7EKuTmxX",
        "outputId": "1cf5f096-eebd-4413-db45-0a96e3e8b681"
      },
      "execution_count": null,
      "outputs": [
        {
          "output_type": "execute_result",
          "data": {
            "text/plain": [
              "array([2, 2, 1, 1])"
            ]
          },
          "metadata": {},
          "execution_count": 33
        }
      ]
    },
    {
      "cell_type": "code",
      "source": [
        "print(\"cp_arr_1\\n\",cp_arr_1)"
      ],
      "metadata": {
        "colab": {
          "base_uri": "https://localhost:8080/"
        },
        "id": "0--rEGINUVOf",
        "outputId": "37973fff-e8c1-426e-aa84-cbd7a9b06585"
      },
      "execution_count": null,
      "outputs": [
        {
          "output_type": "stream",
          "name": "stdout",
          "text": [
            "cp_arr_1\n",
            " [[2 2]\n",
            " [1 1]]\n"
          ]
        }
      ]
    },
    {
      "cell_type": "code",
      "source": [
        "cp_arr_4 = cp_arr_1.copy()\n",
        "cp_arr_4.flatten()"
      ],
      "metadata": {
        "colab": {
          "base_uri": "https://localhost:8080/"
        },
        "id": "fpFDO1rKUbgT",
        "outputId": "0d8c7c4f-1c10-4fb2-9f4a-ea3544b95557"
      },
      "execution_count": null,
      "outputs": [
        {
          "output_type": "execute_result",
          "data": {
            "text/plain": [
              "array([2, 2, 1, 1])"
            ]
          },
          "metadata": {},
          "execution_count": 35
        }
      ]
    },
    {
      "cell_type": "code",
      "source": [
        "cp_arr_1"
      ],
      "metadata": {
        "colab": {
          "base_uri": "https://localhost:8080/"
        },
        "id": "0mAx6iPIUqEv",
        "outputId": "1842eb7a-dbe4-430d-f3da-c1570a378439"
      },
      "execution_count": null,
      "outputs": [
        {
          "output_type": "execute_result",
          "data": {
            "text/plain": [
              "array([[2, 2],\n",
              "       [1, 1]])"
            ]
          },
          "metadata": {},
          "execution_count": 36
        }
      ]
    },
    {
      "cell_type": "markdown",
      "source": [
        "**BASIC MATH**"
      ],
      "metadata": {
        "id": "sIgX_RMAUs-x"
      }
    },
    {
      "cell_type": "code",
      "source": [
        "arr_3 = np.array([1,2,3,4,5])\n",
        "arr_4 = np.array([2,4,6,8,10])\n",
        "arr_3*arr_4\n"
      ],
      "metadata": {
        "colab": {
          "base_uri": "https://localhost:8080/"
        },
        "id": "SbPGhwTHUxVA",
        "outputId": "985b5bb7-6a37-4de0-919e-e6c6c4904a82"
      },
      "execution_count": null,
      "outputs": [
        {
          "output_type": "execute_result",
          "data": {
            "text/plain": [
              "array([ 2,  8, 18, 32, 50])"
            ]
          },
          "metadata": {},
          "execution_count": 37
        }
      ]
    },
    {
      "cell_type": "code",
      "source": [
        "arr_4 - arr_3"
      ],
      "metadata": {
        "colab": {
          "base_uri": "https://localhost:8080/"
        },
        "id": "MlXND07aVkLD",
        "outputId": "76e2a74d-f7c7-45ed-b89b-b5ae4dc4b6d8"
      },
      "execution_count": null,
      "outputs": [
        {
          "output_type": "execute_result",
          "data": {
            "text/plain": [
              "array([1, 2, 3, 4, 5])"
            ]
          },
          "metadata": {},
          "execution_count": 38
        }
      ]
    },
    {
      "cell_type": "code",
      "source": [
        "arr_4/arr_3"
      ],
      "metadata": {
        "colab": {
          "base_uri": "https://localhost:8080/"
        },
        "id": "1-vrCoGKVpnq",
        "outputId": "e323f60e-00a7-4218-d6ef-e479b9c4e99f"
      },
      "execution_count": null,
      "outputs": [
        {
          "output_type": "execute_result",
          "data": {
            "text/plain": [
              "array([2., 2., 2., 2., 2.])"
            ]
          },
          "metadata": {},
          "execution_count": 39
        }
      ]
    },
    {
      "cell_type": "code",
      "source": [
        "arr_5 = random.randint(100 , size=(2,3))\n",
        "arr_5"
      ],
      "metadata": {
        "colab": {
          "base_uri": "https://localhost:8080/"
        },
        "id": "UU5mp7fUV6m7",
        "outputId": "28283812-2f3f-4621-9302-456488012b1d"
      },
      "execution_count": null,
      "outputs": [
        {
          "output_type": "execute_result",
          "data": {
            "text/plain": [
              "array([[19, 28, 55],\n",
              "       [ 4, 39, 68]])"
            ]
          },
          "metadata": {},
          "execution_count": 40
        }
      ]
    },
    {
      "cell_type": "code",
      "source": [
        "##to get random numbers from an array\n",
        "\n",
        "random.choice(arr_4)"
      ],
      "metadata": {
        "colab": {
          "base_uri": "https://localhost:8080/"
        },
        "id": "hmcWxCC5Wb1a",
        "outputId": "8d39ec02-0623-4128-8447-ca9dcdbe5ffa"
      },
      "execution_count": null,
      "outputs": [
        {
          "output_type": "execute_result",
          "data": {
            "text/plain": [
              "6"
            ]
          },
          "metadata": {},
          "execution_count": 41
        }
      ]
    },
    {
      "cell_type": "code",
      "source": [
        "##to sum everything inside an array\n",
        "arr_3.sum()"
      ],
      "metadata": {
        "colab": {
          "base_uri": "https://localhost:8080/"
        },
        "id": "NbxqDe-IWqMn",
        "outputId": "717d8e92-129e-4d70-dc35-5ce25d3b5c9b"
      },
      "execution_count": null,
      "outputs": [
        {
          "output_type": "execute_result",
          "data": {
            "text/plain": [
              "15"
            ]
          },
          "metadata": {},
          "execution_count": 42
        }
      ]
    },
    {
      "cell_type": "code",
      "source": [
        "##to get sum of every column\n",
        "arr_6 = random.randint(100 , size=(2,3))\n",
        "print(arr_6)\n",
        "arr_6.sum(axis=0)"
      ],
      "metadata": {
        "colab": {
          "base_uri": "https://localhost:8080/"
        },
        "id": "Ylnr0Eh3W4TF",
        "outputId": "aa226ac3-181e-4423-b744-56aebd5e1776"
      },
      "execution_count": null,
      "outputs": [
        {
          "output_type": "stream",
          "name": "stdout",
          "text": [
            "[[22 72 82]\n",
            " [66 65 37]]\n"
          ]
        },
        {
          "output_type": "execute_result",
          "data": {
            "text/plain": [
              "array([ 88, 137, 119])"
            ]
          },
          "metadata": {},
          "execution_count": 43
        }
      ]
    },
    {
      "cell_type": "code",
      "source": [
        "##to get sum of each row\n",
        "arr_6.sum(axis=1)"
      ],
      "metadata": {
        "colab": {
          "base_uri": "https://localhost:8080/"
        },
        "id": "JlvgvJeXXa8t",
        "outputId": "eb27ec40-904d-4fed-ac62-b1f2f1720bf9"
      },
      "execution_count": null,
      "outputs": [
        {
          "output_type": "execute_result",
          "data": {
            "text/plain": [
              "array([176, 168])"
            ]
          },
          "metadata": {},
          "execution_count": 44
        }
      ]
    },
    {
      "cell_type": "code",
      "source": [
        "##toget sum of all elements in an array\n",
        "arr_6.sum()"
      ],
      "metadata": {
        "colab": {
          "base_uri": "https://localhost:8080/"
        },
        "id": "Tmbii92NXnP8",
        "outputId": "8069a6b8-3405-4782-c0d4-774c620265c6"
      },
      "execution_count": null,
      "outputs": [
        {
          "output_type": "execute_result",
          "data": {
            "text/plain": [
              "344"
            ]
          },
          "metadata": {},
          "execution_count": 45
        }
      ]
    },
    {
      "cell_type": "code",
      "source": [
        "##to get cuulative sum of row wise\n",
        "print(arr_6)\n",
        "arr_6.cumsum(axis=1)"
      ],
      "metadata": {
        "colab": {
          "base_uri": "https://localhost:8080/"
        },
        "id": "daVyqqLNXsWf",
        "outputId": "fbb8dd65-4cd8-4884-f10b-3549e8200cea"
      },
      "execution_count": null,
      "outputs": [
        {
          "output_type": "stream",
          "name": "stdout",
          "text": [
            "[[22 72 82]\n",
            " [66 65 37]]\n"
          ]
        },
        {
          "output_type": "execute_result",
          "data": {
            "text/plain": [
              "array([[ 22,  94, 176],\n",
              "       [ 66, 131, 168]])"
            ]
          },
          "metadata": {},
          "execution_count": 46
        }
      ]
    },
    {
      "cell_type": "code",
      "source": [
        "##to get max element of each row\n",
        "arr_6.max(axis=1)"
      ],
      "metadata": {
        "colab": {
          "base_uri": "https://localhost:8080/"
        },
        "id": "h4N7mKP4YHFJ",
        "outputId": "d61c63f8-6e8b-4c49-c171-d9d38443ca15"
      },
      "execution_count": null,
      "outputs": [
        {
          "output_type": "execute_result",
          "data": {
            "text/plain": [
              "array([82, 66])"
            ]
          },
          "metadata": {},
          "execution_count": 47
        }
      ]
    },
    {
      "cell_type": "code",
      "source": [
        "##to get min element of each row\n",
        "arr_6.min(axis=1)"
      ],
      "metadata": {
        "colab": {
          "base_uri": "https://localhost:8080/"
        },
        "id": "OI-udBkdbw6l",
        "outputId": "88fdb433-4910-428b-c9cc-8ee87d413e86"
      },
      "execution_count": null,
      "outputs": [
        {
          "output_type": "execute_result",
          "data": {
            "text/plain": [
              "array([22, 37])"
            ]
          },
          "metadata": {},
          "execution_count": 48
        }
      ]
    },
    {
      "cell_type": "code",
      "source": [
        "##to get max element of each column\n",
        "arr_6.max(axis=0)"
      ],
      "metadata": {
        "colab": {
          "base_uri": "https://localhost:8080/"
        },
        "id": "YG1XE5-zb05H",
        "outputId": "996f7a73-4b61-47e1-fd7c-f7d8ebb8900b"
      },
      "execution_count": null,
      "outputs": [
        {
          "output_type": "execute_result",
          "data": {
            "text/plain": [
              "array([66, 72, 82])"
            ]
          },
          "metadata": {},
          "execution_count": 49
        }
      ]
    },
    {
      "cell_type": "code",
      "source": [
        "##to get min element of each column\n",
        "arr_6.min(axis=0)"
      ],
      "metadata": {
        "colab": {
          "base_uri": "https://localhost:8080/"
        },
        "id": "5wmrel1db3tX",
        "outputId": "6619c3d8-ef9f-45fd-e3ef-3d55bd2eba6a"
      },
      "execution_count": null,
      "outputs": [
        {
          "output_type": "execute_result",
          "data": {
            "text/plain": [
              "array([22, 65, 37])"
            ]
          },
          "metadata": {},
          "execution_count": 50
        }
      ]
    },
    {
      "cell_type": "code",
      "source": [
        "##it adds number to every element of an array\n",
        "np.add(arr_3,5)"
      ],
      "metadata": {
        "colab": {
          "base_uri": "https://localhost:8080/"
        },
        "id": "WBqZFRehb_Eq",
        "outputId": "054359b2-3ef2-468b-b1a7-42225703947e"
      },
      "execution_count": null,
      "outputs": [
        {
          "output_type": "execute_result",
          "data": {
            "text/plain": [
              "array([ 6,  7,  8,  9, 10])"
            ]
          },
          "metadata": {},
          "execution_count": 51
        }
      ]
    },
    {
      "cell_type": "code",
      "source": [
        "##it adds the two arrays\n",
        "np.add(arr_3,arr_4)"
      ],
      "metadata": {
        "colab": {
          "base_uri": "https://localhost:8080/"
        },
        "id": "8V22GYjfcvBQ",
        "outputId": "b4683dea-439c-4697-ab43-90d681561cc3"
      },
      "execution_count": null,
      "outputs": [
        {
          "output_type": "execute_result",
          "data": {
            "text/plain": [
              "array([ 3,  6,  9, 12, 15])"
            ]
          },
          "metadata": {},
          "execution_count": 52
        }
      ]
    },
    {
      "cell_type": "code",
      "source": [
        "##it subtracts the two arrays\n",
        "np.subtract(arr_3,arr_4)"
      ],
      "metadata": {
        "colab": {
          "base_uri": "https://localhost:8080/"
        },
        "id": "kR1LxJRyc1a5",
        "outputId": "97160f7c-ee26-4367-eb22-80a393f13b92"
      },
      "execution_count": null,
      "outputs": [
        {
          "output_type": "execute_result",
          "data": {
            "text/plain": [
              "array([-1, -2, -3, -4, -5])"
            ]
          },
          "metadata": {},
          "execution_count": 53
        }
      ]
    },
    {
      "cell_type": "code",
      "source": [
        "np.subtract(arr_4,arr_3)"
      ],
      "metadata": {
        "colab": {
          "base_uri": "https://localhost:8080/"
        },
        "id": "ZWGDce7ldADI",
        "outputId": "8567991b-fdaf-46d7-caf7-0f37dac4660a"
      },
      "execution_count": null,
      "outputs": [
        {
          "output_type": "execute_result",
          "data": {
            "text/plain": [
              "array([1, 2, 3, 4, 5])"
            ]
          },
          "metadata": {},
          "execution_count": 54
        }
      ]
    },
    {
      "cell_type": "code",
      "source": [
        "arr_7 = np.array([[1,2],[3,4]])\n",
        "arr_8 = np.array([[2,4],[6,9]])\n",
        "\n",
        "##gives us the remainder of the [arr_8%arr_7]\n",
        "np.remainder(arr_8,arr_7)"
      ],
      "metadata": {
        "colab": {
          "base_uri": "https://localhost:8080/"
        },
        "id": "tskcQZ5ldajz",
        "outputId": "406d5783-a929-40a9-95d3-eaa4de1e6ed8"
      },
      "execution_count": null,
      "outputs": [
        {
          "output_type": "execute_result",
          "data": {
            "text/plain": [
              "array([[0, 0],\n",
              "       [0, 1]])"
            ]
          },
          "metadata": {},
          "execution_count": 55
        }
      ]
    },
    {
      "cell_type": "code",
      "source": [
        "##in this arrays are reversed\n",
        "np.remainder(arr_7,arr_8)"
      ],
      "metadata": {
        "colab": {
          "base_uri": "https://localhost:8080/"
        },
        "id": "YJ9XUAUKeHJo",
        "outputId": "12ea6425-ee98-4b26-ef1a-420cc1d2f8a8"
      },
      "execution_count": null,
      "outputs": [
        {
          "output_type": "execute_result",
          "data": {
            "text/plain": [
              "array([[1, 2],\n",
              "       [3, 4]])"
            ]
          },
          "metadata": {},
          "execution_count": 56
        }
      ]
    },
    {
      "cell_type": "code",
      "source": [
        "##exponential functions\n",
        "np.exp(arr_3)"
      ],
      "metadata": {
        "colab": {
          "base_uri": "https://localhost:8080/"
        },
        "id": "cF0_rG33ePDl",
        "outputId": "7f1717dc-f6c4-42e4-e526-4489fc9c4c91"
      },
      "execution_count": null,
      "outputs": [
        {
          "output_type": "execute_result",
          "data": {
            "text/plain": [
              "array([  2.71828183,   7.3890561 ,  20.08553692,  54.59815003,\n",
              "       148.4131591 ])"
            ]
          },
          "metadata": {},
          "execution_count": 57
        }
      ]
    },
    {
      "cell_type": "code",
      "source": [
        "##logarithm\n",
        "np.log(arr_3)"
      ],
      "metadata": {
        "colab": {
          "base_uri": "https://localhost:8080/"
        },
        "id": "MVPVymz7epzD",
        "outputId": "570d4be4-2b7e-416a-9aa2-f2cc4e83aa82"
      },
      "execution_count": null,
      "outputs": [
        {
          "output_type": "execute_result",
          "data": {
            "text/plain": [
              "array([0.        , 0.69314718, 1.09861229, 1.38629436, 1.60943791])"
            ]
          },
          "metadata": {},
          "execution_count": 58
        }
      ]
    },
    {
      "cell_type": "code",
      "source": [
        "np.log2(arr_3)"
      ],
      "metadata": {
        "colab": {
          "base_uri": "https://localhost:8080/"
        },
        "id": "Kf8XpDauet2l",
        "outputId": "ed64785c-4983-4ee9-d26e-c78531690f31"
      },
      "execution_count": null,
      "outputs": [
        {
          "output_type": "execute_result",
          "data": {
            "text/plain": [
              "array([0.        , 1.        , 1.5849625 , 2.        , 2.32192809])"
            ]
          },
          "metadata": {},
          "execution_count": 59
        }
      ]
    },
    {
      "cell_type": "code",
      "source": [
        "np.log10(arr_3)"
      ],
      "metadata": {
        "colab": {
          "base_uri": "https://localhost:8080/"
        },
        "id": "KdgNTQm0ez6-",
        "outputId": "20f74373-7677-440b-8f24-134a9ada41e3"
      },
      "execution_count": null,
      "outputs": [
        {
          "output_type": "execute_result",
          "data": {
            "text/plain": [
              "array([0.        , 0.30103   , 0.47712125, 0.60205999, 0.69897   ])"
            ]
          },
          "metadata": {},
          "execution_count": 60
        }
      ]
    },
    {
      "cell_type": "code",
      "source": [
        "##will give cuberoot of every element\n",
        "np.cbrt(arr_3)"
      ],
      "metadata": {
        "colab": {
          "base_uri": "https://localhost:8080/"
        },
        "id": "LK6C0oYZe39r",
        "outputId": "6ccde350-be6b-4df9-8b18-ddc6e7991b31"
      },
      "execution_count": null,
      "outputs": [
        {
          "output_type": "execute_result",
          "data": {
            "text/plain": [
              "array([1.        , 1.25992105, 1.44224957, 1.58740105, 1.70997595])"
            ]
          },
          "metadata": {},
          "execution_count": 61
        }
      ]
    },
    {
      "cell_type": "code",
      "source": [
        "##it will give absolute value of the list\n",
        "np.absolute([-1,-2])"
      ],
      "metadata": {
        "colab": {
          "base_uri": "https://localhost:8080/"
        },
        "id": "M_cAHRGgvxGZ",
        "outputId": "a3f4996a-0821-421f-f4fa-0672b60c021a"
      },
      "execution_count": null,
      "outputs": [
        {
          "output_type": "execute_result",
          "data": {
            "text/plain": [
              "array([1, 2])"
            ]
          },
          "metadata": {},
          "execution_count": 62
        }
      ]
    },
    {
      "cell_type": "code",
      "source": [
        "np.floor([1.2,3.5])"
      ],
      "metadata": {
        "colab": {
          "base_uri": "https://localhost:8080/"
        },
        "id": "XoG9rK1Qv_-r",
        "outputId": "0575c26e-16b1-4f22-f328-28c6b61545ba"
      },
      "execution_count": null,
      "outputs": [
        {
          "output_type": "execute_result",
          "data": {
            "text/plain": [
              "array([1., 3.])"
            ]
          },
          "metadata": {},
          "execution_count": 63
        }
      ]
    },
    {
      "cell_type": "code",
      "source": [
        "np.ceil([1.2,3.4])"
      ],
      "metadata": {
        "colab": {
          "base_uri": "https://localhost:8080/"
        },
        "id": "OIkW4zH1wNi_",
        "outputId": "0cdb2740-489f-4b52-a020-9d8c5acd0870"
      },
      "execution_count": null,
      "outputs": [
        {
          "output_type": "execute_result",
          "data": {
            "text/plain": [
              "array([2., 4.])"
            ]
          },
          "metadata": {},
          "execution_count": 64
        }
      ]
    },
    {
      "cell_type": "code",
      "source": [
        "##to give square of every element in the array\n",
        "sq_arr = np.arange(6)**2\n",
        "sq_arr[arr_3]"
      ],
      "metadata": {
        "colab": {
          "base_uri": "https://localhost:8080/"
        },
        "id": "aaKQZd6OwRAC",
        "outputId": "254b6de1-0097-4ab7-b78b-dc05d29116ac"
      },
      "execution_count": null,
      "outputs": [
        {
          "output_type": "execute_result",
          "data": {
            "text/plain": [
              "array([ 1,  4,  9, 16, 25])"
            ]
          },
          "metadata": {},
          "execution_count": 65
        }
      ]
    },
    {
      "cell_type": "markdown",
      "source": [
        "**STATISTICS FUNCTIONS**"
      ],
      "metadata": {
        "id": "TrvylgjcVf2-"
      }
    },
    {
      "cell_type": "code",
      "source": [
        "sarr_1 = np.arange(1,6)\n",
        "sarr_1"
      ],
      "metadata": {
        "colab": {
          "base_uri": "https://localhost:8080/"
        },
        "id": "TvFOWzozVl0K",
        "outputId": "c87cfb67-356e-4cf7-da3a-abf429ae502d"
      },
      "execution_count": null,
      "outputs": [
        {
          "output_type": "execute_result",
          "data": {
            "text/plain": [
              "array([1, 2, 3, 4, 5])"
            ]
          },
          "metadata": {},
          "execution_count": 66
        }
      ]
    },
    {
      "cell_type": "code",
      "source": [
        "np.mean(sarr_1)"
      ],
      "metadata": {
        "colab": {
          "base_uri": "https://localhost:8080/"
        },
        "id": "i2tqFIZeYn8T",
        "outputId": "ddd14423-dc65-40ac-bab1-09efc699e79b"
      },
      "execution_count": null,
      "outputs": [
        {
          "output_type": "execute_result",
          "data": {
            "text/plain": [
              "3.0"
            ]
          },
          "metadata": {},
          "execution_count": 67
        }
      ]
    },
    {
      "cell_type": "code",
      "source": [
        "np.median(sarr_1)"
      ],
      "metadata": {
        "colab": {
          "base_uri": "https://localhost:8080/"
        },
        "id": "W4pvglj-YtrO",
        "outputId": "55792339-3c7e-4ed9-fcf6-2e0b810cddf6"
      },
      "execution_count": null,
      "outputs": [
        {
          "output_type": "execute_result",
          "data": {
            "text/plain": [
              "3.0"
            ]
          },
          "metadata": {},
          "execution_count": 68
        }
      ]
    },
    {
      "cell_type": "code",
      "source": [
        "np.std(sarr_1)"
      ],
      "metadata": {
        "colab": {
          "base_uri": "https://localhost:8080/"
        },
        "id": "BEIf6GGGYyeD",
        "outputId": "7a25e283-29b0-4ed0-90e0-348695426392"
      },
      "execution_count": null,
      "outputs": [
        {
          "output_type": "execute_result",
          "data": {
            "text/plain": [
              "1.4142135623730951"
            ]
          },
          "metadata": {},
          "execution_count": 69
        }
      ]
    },
    {
      "cell_type": "code",
      "source": [
        "np.average(sarr_1)"
      ],
      "metadata": {
        "colab": {
          "base_uri": "https://localhost:8080/"
        },
        "id": "sNHVQ2nAY67t",
        "outputId": "343c5340-8339-4b64-be2a-92f5ce563e1e"
      },
      "execution_count": null,
      "outputs": [
        {
          "output_type": "execute_result",
          "data": {
            "text/plain": [
              "3.0"
            ]
          },
          "metadata": {},
          "execution_count": 70
        }
      ]
    },
    {
      "cell_type": "code",
      "source": [
        "np.var(sarr_1)"
      ],
      "metadata": {
        "colab": {
          "base_uri": "https://localhost:8080/"
        },
        "id": "YLws3_-CZSSt",
        "outputId": "f1f9bbe8-72b8-49f9-bf2b-82f5cbb42127"
      },
      "execution_count": null,
      "outputs": [
        {
          "output_type": "execute_result",
          "data": {
            "text/plain": [
              "2.0"
            ]
          },
          "metadata": {},
          "execution_count": 71
        }
      ]
    },
    {
      "cell_type": "markdown",
      "source": [
        "**TRIGONOMETRIC FUNCTIONS**"
      ],
      "metadata": {
        "id": "Wmdyt9A2bGh-"
      }
    },
    {
      "cell_type": "code",
      "source": [
        "t_arr = np.linspace(-np.pi , np.pi , 200)\n",
        "plt.plot(t_arr , np.sin(t_arr))"
      ],
      "metadata": {
        "colab": {
          "base_uri": "https://localhost:8080/",
          "height": 447
        },
        "id": "RKbN_RLzbLIR",
        "outputId": "27d71477-723e-404f-bc3e-bc8015707989"
      },
      "execution_count": null,
      "outputs": [
        {
          "output_type": "execute_result",
          "data": {
            "text/plain": [
              "[<matplotlib.lines.Line2D at 0x7fa09be9fb20>]"
            ]
          },
          "metadata": {},
          "execution_count": 73
        },
        {
          "output_type": "display_data",
          "data": {
            "text/plain": [
              "<Figure size 640x480 with 1 Axes>"
            ],
            "image/png": "[encoded data removed]"
          },
          "metadata": {}
        }
      ]
    },
    {
      "cell_type": "code",
      "source": [
        "t_arr = np.linspace(-np.pi , np.pi , 200)\n",
        "plt.plot(t_arr , np.tan(t_arr))"
      ],
      "metadata": {
        "colab": {
          "base_uri": "https://localhost:8080/",
          "height": 447
        },
        "id": "nu7k51BAdEqj",
        "outputId": "945670ea-fae9-4934-dfa3-0a94cee63c50"
      },
      "execution_count": null,
      "outputs": [
        {
          "output_type": "execute_result",
          "data": {
            "text/plain": [
              "[<matplotlib.lines.Line2D at 0x7fa09bfa0310>]"
            ]
          },
          "metadata": {},
          "execution_count": 74
        },
        {
          "output_type": "display_data",
          "data": {
            "text/plain": [
              "<Figure size 640x480 with 1 Axes>"
            ],
            "image/png": "[encoded data removed]"
          },
          "metadata": {}
        }
      ]
    },
    {
      "cell_type": "code",
      "source": [
        "t_arr = np.linspace(-np.pi , np.pi , 200)\n",
        "plt.plot(t_arr , np.cos(t_arr))"
      ],
      "metadata": {
        "colab": {
          "base_uri": "https://localhost:8080/",
          "height": 447
        },
        "id": "i15xW6iAdKMh",
        "outputId": "cd6de756-e745-4842-8fc8-be200b841850"
      },
      "execution_count": null,
      "outputs": [
        {
          "output_type": "execute_result",
          "data": {
            "text/plain": [
              "[<matplotlib.lines.Line2D at 0x7fa0b44a9240>]"
            ]
          },
          "metadata": {},
          "execution_count": 75
        },
        {
          "output_type": "display_data",
          "data": {
            "text/plain": [
              "<Figure size 640x480 with 1 Axes>"
            ],
            "image/png": "[encoded data removed]"
          },
          "metadata": {}
        }
      ]
    },
    {
      "cell_type": "code",
      "source": [
        "t_arr = np.linspace(-np.pi , np.pi , 200)\n",
        "plt.plot(t_arr , np.arcsin(t_arr))"
      ],
      "metadata": {
        "colab": {
          "base_uri": "https://localhost:8080/",
          "height": 482
        },
        "id": "c1nktf8cddSK",
        "outputId": "022bd1c7-9cfb-4ebb-e890-cec8bc259e3d"
      },
      "execution_count": null,
      "outputs": [
        {
          "output_type": "stream",
          "name": "stderr",
          "text": [
            "<ipython-input-79-2d6fb2f3c4e2>:2: RuntimeWarning: invalid value encountered in arcsin\n",
            "  plt.plot(t_arr , np.arcsin(t_arr))\n"
          ]
        },
        {
          "output_type": "execute_result",
          "data": {
            "text/plain": [
              "[<matplotlib.lines.Line2D at 0x7fa0c8b33d00>]"
            ]
          },
          "metadata": {},
          "execution_count": 79
        },
        {
          "output_type": "display_data",
          "data": {
            "text/plain": [
              "<Figure size 640x480 with 1 Axes>"
            ],
            "image/png": "[encoded data removed]"
          },
          "metadata": {}
        }
      ]
    },
    {
      "cell_type": "code",
      "source": [
        "t_arr = np.linspace(-np.pi , np.pi , 200)\n",
        "plt.plot(t_arr , np.arccos(t_arr))"
      ],
      "metadata": {
        "colab": {
          "base_uri": "https://localhost:8080/",
          "height": 482
        },
        "id": "GRbwufpgdrv4",
        "outputId": "583b6499-a773-493e-facf-dfae3b45b244"
      },
      "execution_count": null,
      "outputs": [
        {
          "output_type": "stream",
          "name": "stderr",
          "text": [
            "<ipython-input-80-f74f6725fdbd>:2: RuntimeWarning: invalid value encountered in arccos\n",
            "  plt.plot(t_arr , np.arccos(t_arr))\n"
          ]
        },
        {
          "output_type": "execute_result",
          "data": {
            "text/plain": [
              "[<matplotlib.lines.Line2D at 0x7fa09b957c70>]"
            ]
          },
          "metadata": {},
          "execution_count": 80
        },
        {
          "output_type": "display_data",
          "data": {
            "text/plain": [
              "<Figure size 640x480 with 1 Axes>"
            ],
            "image/png": "[encoded data removed]"
          },
          "metadata": {}
        }
      ]
    },
    {
      "cell_type": "code",
      "source": [
        "t_arr = np.linspace(-np.pi , np.pi , 200)\n",
        "plt.plot(t_arr , np.arctan(t_arr))"
      ],
      "metadata": {
        "colab": {
          "base_uri": "https://localhost:8080/",
          "height": 447
        },
        "id": "WMkxJ7JfdvgY",
        "outputId": "693d3370-451b-4da7-b961-36e7608975e7"
      },
      "execution_count": null,
      "outputs": [
        {
          "output_type": "execute_result",
          "data": {
            "text/plain": [
              "[<matplotlib.lines.Line2D at 0x7fa09b99ba00>]"
            ]
          },
          "metadata": {},
          "execution_count": 81
        },
        {
          "output_type": "display_data",
          "data": {
            "text/plain": [
              "<Figure size 640x480 with 1 Axes>"
            ],
            "image/png": "[encoded data removed]"
          },
          "metadata": {}
        }
      ]
    },
    {
      "cell_type": "markdown",
      "source": [
        "**LINEAR ALGEBRA**"
      ],
      "metadata": {
        "id": "cCv8VZTKePlR"
      }
    },
    {
      "cell_type": "code",
      "source": [
        "from numpy import linalg as LA\n",
        "\n"
      ],
      "metadata": {
        "id": "TFMhqo58eS6i"
      },
      "execution_count": null,
      "outputs": []
    },
    {
      "cell_type": "code",
      "source": [
        "larr_5 = np.array([[1,2],[4,3]])\n",
        "larr_6 = np.array([[10,20],[40,30]])"
      ],
      "metadata": {
        "id": "A0mZW-fefcVt"
      },
      "execution_count": null,
      "outputs": []
    },
    {
      "cell_type": "code",
      "source": [
        "print(\"larr_5\\n\" , larr_5)\n",
        "print(\"larr_6\\n\" , larr_6)\n",
        "\n",
        "##multiplying the matrix\n",
        "larr_8 = np.array([[5,6] , [7,8]])\n",
        "\n",
        "np.dot(larr_5, larr_6)\n"
      ],
      "metadata": {
        "colab": {
          "base_uri": "https://localhost:8080/"
        },
        "id": "AAXbm_eZeswc",
        "outputId": "a3bca75f-6713-4d88-d9f2-a19a348f9f67"
      },
      "execution_count": null,
      "outputs": [
        {
          "output_type": "stream",
          "name": "stdout",
          "text": [
            "larr_5\n",
            " [[1 2]\n",
            " [4 3]]\n",
            "larr_6\n",
            " [[10 20]\n",
            " [40 30]]\n"
          ]
        },
        {
          "output_type": "execute_result",
          "data": {
            "text/plain": [
              "array([[ 90,  80],\n",
              "       [160, 170]])"
            ]
          },
          "metadata": {},
          "execution_count": 91
        }
      ]
    },
    {
      "cell_type": "code",
      "source": [
        "##multiplying multiple arrays at one time\n",
        "LA.multi_dot([larr_5,larr_6,larr_8])"
      ],
      "metadata": {
        "colab": {
          "base_uri": "https://localhost:8080/"
        },
        "id": "CMSUtKJpgUlG",
        "outputId": "a6102822-2406-43e3-eb9b-eaa0b8464f54"
      },
      "execution_count": null,
      "outputs": [
        {
          "output_type": "execute_result",
          "data": {
            "text/plain": [
              "array([[1010, 1180],\n",
              "       [1990, 2320]])"
            ]
          },
          "metadata": {},
          "execution_count": 93
        }
      ]
    },
    {
      "cell_type": "code",
      "source": [
        "##to do inner product\n",
        "np.inner(larr_5,larr_6)"
      ],
      "metadata": {
        "colab": {
          "base_uri": "https://localhost:8080/"
        },
        "id": "OAKQsXipgma-",
        "outputId": "76acfece-c5d8-4406-a27d-2dd5ac3c427c"
      },
      "execution_count": null,
      "outputs": [
        {
          "output_type": "execute_result",
          "data": {
            "text/plain": [
              "array([[ 50, 100],\n",
              "       [100, 250]])"
            ]
          },
          "metadata": {},
          "execution_count": 94
        }
      ]
    },
    {
      "cell_type": "code",
      "source": [
        "##to do tensor dot of the matrices\n",
        "\n",
        "larr_9 = np.array([[[1,2],\n",
        "                   [3,4]],\n",
        "                   [[5,6],\n",
        "                    [7,8]]])\n",
        "\n",
        "larr_10 = np.array([[1,2],[3,4]] , dtype=object)\n",
        "\n",
        "np.tensordot(larr_9,larr_10)"
      ],
      "metadata": {
        "colab": {
          "base_uri": "https://localhost:8080/"
        },
        "id": "GoczL1aLgx8o",
        "outputId": "dfc7c737-71b8-44af-9a53-c6a99e3798f1"
      },
      "execution_count": null,
      "outputs": [
        {
          "output_type": "execute_result",
          "data": {
            "text/plain": [
              "array([30, 70], dtype=object)"
            ]
          },
          "metadata": {},
          "execution_count": 97
        }
      ]
    },
    {
      "cell_type": "code",
      "source": [
        "##Einstein summation\n",
        "\n",
        "larr_11 = np.array([0,1])\n",
        "larr_12 = np.array([[0,1,2,3],[4,5,6,7]])\n",
        "\n",
        "np.einsum('i,ij->i' , larr_11 , larr_12)"
      ],
      "metadata": {
        "colab": {
          "base_uri": "https://localhost:8080/"
        },
        "id": "utJQ6Ngdh0FP",
        "outputId": "8a05cc20-20be-45d1-8748-80ee5154667f"
      },
      "execution_count": null,
      "outputs": [
        {
          "output_type": "execute_result",
          "data": {
            "text/plain": [
              "array([ 0, 22])"
            ]
          },
          "metadata": {},
          "execution_count": 99
        }
      ]
    },
    {
      "cell_type": "code",
      "source": [
        "##Raise matrix to the power of n\n",
        "\n",
        "LA.matrix_power(larr_5,2)"
      ],
      "metadata": {
        "colab": {
          "base_uri": "https://localhost:8080/"
        },
        "id": "EIU1bsZ7kCBC",
        "outputId": "709b1e1b-88d1-4332-8845-7077fdf72ba6"
      },
      "execution_count": null,
      "outputs": [
        {
          "output_type": "execute_result",
          "data": {
            "text/plain": [
              "array([[ 9,  8],\n",
              "       [16, 17]])"
            ]
          },
          "metadata": {},
          "execution_count": 101
        }
      ]
    },
    {
      "cell_type": "code",
      "source": [
        "##kronecker product of 2 arrays\n",
        "np.kron(larr_5,larr_6)"
      ],
      "metadata": {
        "colab": {
          "base_uri": "https://localhost:8080/"
        },
        "id": "PyY8iuexklWH",
        "outputId": "9b9087a3-2345-4abc-acc5-7d47b009ba42"
      },
      "execution_count": null,
      "outputs": [
        {
          "output_type": "execute_result",
          "data": {
            "text/plain": [
              "array([[ 10,  20,  20,  40],\n",
              "       [ 40,  30,  80,  60],\n",
              "       [ 40,  80,  30,  60],\n",
              "       [160, 120, 120,  90]])"
            ]
          },
          "metadata": {},
          "execution_count": 102
        }
      ]
    },
    {
      "cell_type": "code",
      "source": [
        "##calculating eigen values of array\n",
        "\n",
        "LA.eigvals(larr_5)"
      ],
      "metadata": {
        "colab": {
          "base_uri": "https://localhost:8080/"
        },
        "id": "KmgOQHaak8IY",
        "outputId": "e9ea727e-ec69-4a4b-e6c7-ad0637535b0e"
      },
      "execution_count": null,
      "outputs": [
        {
          "output_type": "execute_result",
          "data": {
            "text/plain": [
              "array([-1.,  5.])"
            ]
          },
          "metadata": {},
          "execution_count": 103
        }
      ]
    },
    {
      "cell_type": "code",
      "source": [
        "##Get vector norm square root\n",
        "\n",
        "LA.norm(larr_5)"
      ],
      "metadata": {
        "colab": {
          "base_uri": "https://localhost:8080/"
        },
        "id": "33ViQ1u6lExx",
        "outputId": "8753e4ec-3727-4659-8d0e-39f0c5c8eead"
      },
      "execution_count": null,
      "outputs": [
        {
          "output_type": "execute_result",
          "data": {
            "text/plain": [
              "5.477225575051661"
            ]
          },
          "metadata": {},
          "execution_count": 104
        }
      ]
    },
    {
      "cell_type": "code",
      "source": [
        "##Get multiplicative inverse of an array\n",
        "LA.inv(larr_5)"
      ],
      "metadata": {
        "colab": {
          "base_uri": "https://localhost:8080/"
        },
        "id": "i4ewl6BWlPun",
        "outputId": "be976f23-0464-4d54-e78c-daa94c489931"
      },
      "execution_count": null,
      "outputs": [
        {
          "output_type": "execute_result",
          "data": {
            "text/plain": [
              "array([[-0.6,  0.4],\n",
              "       [ 0.8, -0.2]])"
            ]
          },
          "metadata": {},
          "execution_count": 105
        }
      ]
    },
    {
      "cell_type": "code",
      "source": [
        "##Get condition number of the matrix\n",
        "LA.cond(larr_5)"
      ],
      "metadata": {
        "colab": {
          "base_uri": "https://localhost:8080/"
        },
        "id": "_vmWzIqHlp9L",
        "outputId": "7c49e539-7591-43e1-b269-f701d733fd23"
      },
      "execution_count": null,
      "outputs": [
        {
          "output_type": "execute_result",
          "data": {
            "text/plain": [
              "5.828427124746189"
            ]
          },
          "metadata": {},
          "execution_count": 106
        }
      ]
    },
    {
      "cell_type": "code",
      "source": [
        "##to calculate determinant of 2x2 matrix\n",
        "LA.det(larr_5)"
      ],
      "metadata": {
        "colab": {
          "base_uri": "https://localhost:8080/"
        },
        "id": "HkKqBxo9l0jJ",
        "outputId": "c2ffede0-42ca-4a8f-882f-100281d6762e"
      },
      "execution_count": null,
      "outputs": [
        {
          "output_type": "execute_result",
          "data": {
            "text/plain": [
              "-4.999999999999999"
            ]
          },
          "metadata": {},
          "execution_count": 107
        }
      ]
    },
    {
      "cell_type": "code",
      "source": [
        "##Solving system linear equations\n",
        "larr_13 = np.array([[1,4],[6,18]])\n",
        "larr_14 = np.array([10,42])\n",
        "LA.solve(larr_13,larr_14)\n"
      ],
      "metadata": {
        "colab": {
          "base_uri": "https://localhost:8080/"
        },
        "id": "3rsgNVbtmQUQ",
        "outputId": "d2b58dc5-85c2-4c16-9e9b-29ada080f3cd"
      },
      "execution_count": null,
      "outputs": [
        {
          "output_type": "execute_result",
          "data": {
            "text/plain": [
              "array([-2.,  3.])"
            ]
          },
          "metadata": {},
          "execution_count": 108
        }
      ]
    },
    {
      "cell_type": "code",
      "source": [
        "## Return an identity matrix with defined number of rows and columns\n",
        "np.eye(2,2,dtype=int)"
      ],
      "metadata": {
        "colab": {
          "base_uri": "https://localhost:8080/"
        },
        "id": "oHhhLbseorHv",
        "outputId": "e7b17759-6ec4-48b5-fa60-6b011d6ff8ea"
      },
      "execution_count": null,
      "outputs": [
        {
          "output_type": "execute_result",
          "data": {
            "text/plain": [
              "array([[1, 0],\n",
              "       [0, 1]])"
            ]
          },
          "metadata": {},
          "execution_count": 109
        }
      ]
    },
    {
      "cell_type": "markdown",
      "source": [
        "**SAVING AND LOADING NUMP OBJECTS**"
      ],
      "metadata": {
        "id": "Fw2AfAgnpOBL"
      }
    },
    {
      "cell_type": "code",
      "source": [
        "np.save('randarray' , larr_13)\n",
        "larr_15 = np.load('randarray.npy')\n",
        "larr_15"
      ],
      "metadata": {
        "colab": {
          "base_uri": "https://localhost:8080/"
        },
        "id": "q7ELnlf5pSni",
        "outputId": "6ea4c439-0dcf-401f-993c-46f9b7d5b3b6"
      },
      "execution_count": null,
      "outputs": [
        {
          "output_type": "execute_result",
          "data": {
            "text/plain": [
              "array([[ 1,  4],\n",
              "       [ 6, 18]])"
            ]
          },
          "metadata": {},
          "execution_count": 113
        }
      ]
    },
    {
      "cell_type": "code",
      "source": [
        "##For csv file\n",
        "np.savetxt('randcsv.csv' , larr_13)\n",
        "larr_16 = np.loadtxt('randcsv.csv')\n",
        "larr_16\n"
      ],
      "metadata": {
        "colab": {
          "base_uri": "https://localhost:8080/"
        },
        "id": "qB9vJAeQp9F9",
        "outputId": "9caa3a61-9ab1-4df5-ef0d-041f59574b7d"
      },
      "execution_count": null,
      "outputs": [
        {
          "output_type": "execute_result",
          "data": {
            "text/plain": [
              "array([[ 1.,  4.],\n",
              "       [ 6., 18.]])"
            ]
          },
          "metadata": {},
          "execution_count": 114
        }
      ]
    }
  ]
}